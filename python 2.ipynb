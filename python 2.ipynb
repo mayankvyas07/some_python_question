{
 "cells": [
  {
   "cell_type": "code",
   "execution_count": 1,
   "id": "012c1f40",
   "metadata": {},
   "outputs": [
    {
     "ename": "SyntaxError",
     "evalue": "invalid syntax (1062774982.py, line 1)",
     "output_type": "error",
     "traceback": [
      "\u001b[0;36m  File \u001b[0;32m\"/var/folders/w1/6htwlcm11pj97jmd5_5n8s2h0000gn/T/ipykernel_15995/1062774982.py\"\u001b[0;36m, line \u001b[0;32m1\u001b[0m\n\u001b[0;31m    Q1. Password Validation Function:\u001b[0m\n\u001b[0m                 ^\u001b[0m\n\u001b[0;31mSyntaxError\u001b[0m\u001b[0;31m:\u001b[0m invalid syntax\n"
     ]
    }
   ],
   "source": [
    "Q1. Password Validation Function:\n",
    "\n",
    "Here's the Python code to create a function that checks whether a given password follows the specified guidelines:\n",
    "\n",
    "python\n",
    "Copy code\n",
    "import re\n",
    "\n",
    "def validate_password(password):\n",
    "    if len(password) != 10:\n",
    "        return \"Invalid Password\"\n",
    "    \n",
    "    uppercase_count = sum(1 for char in password if char.isupper())\n",
    "    lowercase_count = sum(1 for char in password if char.islower())\n",
    "    digit_count = sum(1 for char in password if char.isdigit())\n",
    "    special_char_count = len(re.findall(r'[!@#$%^&*()-_=+[\\]{}|;:,.<>?/]', password))\n",
    "    \n",
    "    if uppercase_count >= 2 and lowercase_count >= 2 and digit_count >= 1 and special_char_count >= 3:\n",
    "        return \"Valid Password\"\n",
    "    else:\n",
    "        return \"Invalid Password\"\n",
    "\n",
    "user_password = input(\"Enter a password: \")\n",
    "result = validate_password(user_password)\n",
    "print(result)\n",
    "Q2. Solving Questions Using Different Techniques:\n",
    "\n",
    "Here's how you can solve the provided questions using various techniques:\n",
    "\n",
    "Check if the string starts with a particular letter:\n",
    "python\n",
    "Copy code\n",
    "string_list = [\"apple\", \"banana\", \"cherry\", \"date\"]\n",
    "starts_with_c = filter(lambda s: s.startswith('c'), string_list)\n",
    "print(list(starts_with_c))  # Output: ['cherry']\n",
    "Check if the string is numeric:\n",
    "python\n",
    "Copy code\n",
    "string_list = [\"123\", \"abc\", \"456\", \"def\"]\n",
    "is_numeric = filter(lambda s: s.isnumeric(), string_list)\n",
    "print(list(is_numeric))  # Output: ['123', '456']\n",
    "Sort a list of tuples by quantity:\n",
    "python\n",
    "Copy code\n",
    "fruits = [(\"mango\", 99), (\"orange\", 80), (\"grapes\", 1000)]\n",
    "sorted_fruits = sorted(fruits, key=lambda x: x[1])\n",
    "print(sorted_fruits)\n",
    "Find the squares of numbers from 1 to 10:\n",
    "python\n",
    "Copy code\n",
    "squares = [x ** 2 for x in range(1, 11)]\n",
    "print(squares)\n",
    "Find the cube root of numbers from 1 to 10:\n",
    "python\n",
    "Copy code\n",
    "import math\n",
    "cube_roots = [math.pow(x, 1/3) for x in range(1, 11)]\n",
    "print(cube_roots)\n",
    "Check if a given number is even:\n",
    "python\n",
    "Copy code\n",
    "is_even = lambda x: x % 2 == 0\n",
    "print(is_even(4))  # Output: True\n",
    "Filter odd numbers from a list:\n",
    "python\n",
    "Copy code\n",
    "numbers = [1, 2, 3, 4, 5, 6, 7, 8, 9, 10]\n",
    "odd_numbers = filter(lambda x: x % 2 != 0, numbers)\n",
    "print(list(odd_numbers))\n",
    "Sort a list of integers into positive and negative integers lists:\n",
    "python\n",
    "Copy code\n",
    "numbers = [1, 2, 3, 4, 5, 6, -1, -2, -3, -4, -5, 0]\n",
    "positive_numbers = [x for x in numbers if x > 0]\n",
    "negative_numbers = [x for x in numbers if x < 0]\n",
    "print(\"Positive:\", positive_numbers)\n",
    "print(\"Negative:\", negative_numbers)"
   ]
  },
  {
   "cell_type": "code",
   "execution_count": null,
   "id": "f086ba59",
   "metadata": {},
   "outputs": [],
   "source": []
  }
 ],
 "metadata": {
  "kernelspec": {
   "display_name": "Python 3 (ipykernel)",
   "language": "python",
   "name": "python3"
  },
  "language_info": {
   "codemirror_mode": {
    "name": "ipython",
    "version": 3
   },
   "file_extension": ".py",
   "mimetype": "text/x-python",
   "name": "python",
   "nbconvert_exporter": "python",
   "pygments_lexer": "ipython3",
   "version": "3.9.13"
  }
 },
 "nbformat": 4,
 "nbformat_minor": 5
}
